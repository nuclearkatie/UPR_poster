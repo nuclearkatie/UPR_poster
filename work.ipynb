{
 "cells": [
  {
   "cell_type": "code",
   "execution_count": 1,
   "metadata": {},
   "outputs": [],
   "source": [
    "import sys \n",
    "import os\n",
    "sys.path.append(os.path.abspath(\"/Users/nuclearkatie/cyclus/mummah_cvt/helpmetric\"))\n",
    "import mytool as mt\n",
    "import numpy as np"
   ]
  },
  {
   "cell_type": "code",
   "execution_count": 2,
   "metadata": {},
   "outputs": [
    {
     "data": {
      "text/plain": [
       "array([1.5, 1. , 0.5])"
      ]
     },
     "execution_count": 2,
     "metadata": {},
     "output_type": "execute_result"
    }
   ],
   "source": [
    "cut = [0.5, 0.5, 0.5]\n",
    "\n",
    "mt.calc_feed_flows(3, 0, 1, cut)"
   ]
  },
  {
   "cell_type": "code",
   "execution_count": 3,
   "metadata": {
    "scrolled": true
   },
   "outputs": [
    {
     "name": "stdout",
     "output_type": "stream",
     "text": [
      "virtual cut 0.109375\n",
      "26.336813209666015\n",
      "3.2290895478933574\n",
      "0.3912989227633823\n",
      "0.042798319677244935\n"
     ]
    }
   ],
   "source": [
    "#Case 1 no recycling\n",
    "v = 0.109375\n",
    "print(\"virtual cut\", v)\n",
    "cut = [v, v, v, v]\n",
    "\n",
    "flow = mt.calc_feed_flows(4, 0, 1, cut)\n",
    "tot = np.sum(flow)\n",
    "cent_per_unit = 30/tot\n",
    "for flow_ in flow:\n",
    "    print(cent_per_unit*flow_)"
   ]
  },
  {
   "cell_type": "code",
   "execution_count": 4,
   "metadata": {},
   "outputs": [
    {
     "name": "stdout",
     "output_type": "stream",
     "text": [
      "virtual cut 0.109375\n",
      "25.786172491400155\n",
      "3.3506205497807513\n",
      "0.5953773288801222\n",
      "0.1896982374740563\n",
      "0.07813139246491452\n"
     ]
    }
   ],
   "source": [
    "#Case 2 no recycling\n",
    "v = 0.109375\n",
    "print(\"virtual cut\", v)\n",
    "cut = [0.109375, 0.128342, 0.215694, 0.411872, 0.547009]\n",
    "\n",
    "flow = mt.calc_feed_flows(5, 0, 1, cut)\n",
    "tot = np.sum(flow)\n",
    "cent_per_unit = 30/tot\n",
    "for flow_ in flow:\n",
    "    print(cent_per_unit*flow_)"
   ]
  },
  {
   "cell_type": "code",
   "execution_count": 5,
   "metadata": {},
   "outputs": [
    {
     "name": "stdout",
     "output_type": "stream",
     "text": [
      "virtual cut 0.109375\n",
      "26.444921316165956\n",
      "3.204577968526467\n",
      "0.3505007153075823\n"
     ]
    }
   ],
   "source": [
    "#Case 1 recycling\n",
    "v = 0.109375\n",
    "print(\"virtual cut\", v)\n",
    "cut = [v, v, v]\n",
    "\n",
    "\n",
    "flow = mt.calc_feed_flows(3, 0, 1, cut)\n",
    "tot = np.sum(flow)\n",
    "cent_per_unit = 30/tot\n",
    "for flow_ in flow:\n",
    "    print(cent_per_unit*flow_)"
   ]
  },
  {
   "cell_type": "code",
   "execution_count": 6,
   "metadata": {},
   "outputs": [
    {
     "name": "stdout",
     "output_type": "stream",
     "text": [
      "virtual cut 0.109375\n",
      "26.047225431064682\n",
      "3.315665416640822\n",
      "0.5240703271501721\n",
      "0.11303882514432921\n"
     ]
    }
   ],
   "source": [
    "#Case 2 recycling\n",
    "v = 0.109375\n",
    "print(\"virtual cut\", v)\n",
    "cut = [0.109375, 0.128342, 0.215694, 0.411872]\n",
    "\n",
    "\n",
    "\n",
    "flow = mt.calc_feed_flows(4, 0, 1, cut)\n",
    "tot = np.sum(flow)\n",
    "cent_per_unit = 30/tot\n",
    "for flow_ in flow:\n",
    "    print(cent_per_unit*flow_)"
   ]
  },
  {
   "cell_type": "code",
   "execution_count": null,
   "metadata": {},
   "outputs": [],
   "source": []
  },
  {
   "cell_type": "code",
   "execution_count": null,
   "metadata": {},
   "outputs": [],
   "source": []
  },
  {
   "cell_type": "code",
   "execution_count": 12,
   "metadata": {},
   "outputs": [
    {
     "name": "stderr",
     "output_type": "stream",
     "text": [
      "/Users/nuclearkatie/.local/lib/python3.5/site-packages/cymetric/timeseries.py:133: UserWarning: no nuclide provided\n",
      "  warnings.warn(wng_msg, UserWarning)\n"
     ]
    },
    {
     "ename": "TypeError",
     "evalue": "'NoneType' object is not subscriptable",
     "output_type": "error",
     "traceback": [
      "\u001b[0;31m---------------------------------------------------------------------------\u001b[0m",
      "\u001b[0;31mTypeError\u001b[0m                                 Traceback (most recent call last)",
      "\u001b[0;32m<ipython-input-12-7d0b79cc4039>\u001b[0m in \u001b[0;36m<module>\u001b[0;34m()\u001b[0m\n\u001b[1;32m     37\u001b[0m     \u001b[0mev_\u001b[0m \u001b[0;34m=\u001b[0m \u001b[0mcym\u001b[0m\u001b[0;34m.\u001b[0m\u001b[0mEvaluator\u001b[0m\u001b[0;34m(\u001b[0m\u001b[0mdb\u001b[0m\u001b[0;34m=\u001b[0m\u001b[0mdb_\u001b[0m\u001b[0;34m,\u001b[0m \u001b[0mwrite\u001b[0m\u001b[0;34m=\u001b[0m\u001b[0;32mFalse\u001b[0m\u001b[0;34m)\u001b[0m\u001b[0;34m\u001b[0m\u001b[0m\n\u001b[1;32m     38\u001b[0m \u001b[0;34m\u001b[0m\u001b[0m\n\u001b[0;32m---> 39\u001b[0;31m     \u001b[0mdf_\u001b[0m \u001b[0;34m=\u001b[0m \u001b[0mtm\u001b[0m\u001b[0;34m.\u001b[0m\u001b[0minventories\u001b[0m\u001b[0;34m(\u001b[0m\u001b[0mev_\u001b[0m\u001b[0;34m,\u001b[0m \u001b[0;34m[\u001b[0m\u001b[0minvs\u001b[0m\u001b[0;34m[\u001b[0m\u001b[0mi\u001b[0m\u001b[0;34m]\u001b[0m\u001b[0;34m]\u001b[0m\u001b[0;34m)\u001b[0m\u001b[0;34m\u001b[0m\u001b[0m\n\u001b[0m\u001b[1;32m     40\u001b[0m     \u001b[0mdf_\u001b[0m \u001b[0;34m=\u001b[0m \u001b[0mpdh\u001b[0m\u001b[0;34m.\u001b[0m\u001b[0mRenameTS\u001b[0m\u001b[0;34m(\u001b[0m\u001b[0mpdh\u001b[0m\u001b[0;34m.\u001b[0m\u001b[0mRemoveNan\u001b[0m\u001b[0;34m(\u001b[0m\u001b[0mdf_\u001b[0m\u001b[0;34m)\u001b[0m\u001b[0;34m,\u001b[0m \u001b[0;34m\"Time [y]\"\u001b[0m\u001b[0;34m,\u001b[0m \u001b[0mc_names\u001b[0m\u001b[0;34m[\u001b[0m\u001b[0mi\u001b[0m\u001b[0;34m]\u001b[0m\u001b[0;34m)\u001b[0m\u001b[0;34m\u001b[0m\u001b[0m\n\u001b[1;32m     41\u001b[0m     \u001b[0mdf_\u001b[0m\u001b[0;34m[\u001b[0m\u001b[0;34m'Time [y]'\u001b[0m\u001b[0;34m]\u001b[0m \u001b[0;34m*=\u001b[0m \u001b[0;36m1\u001b[0m\u001b[0;34m/\u001b[0m\u001b[0;36m12.\u001b[0m\u001b[0;34m\u001b[0m\u001b[0m\n",
      "\u001b[0;32m~/.local/lib/python3.5/site-packages/cymetric/timeseries.py\u001b[0m in \u001b[0;36minventories\u001b[0;34m(evaler, facilities, nucs)\u001b[0m\n\u001b[1;32m    133\u001b[0m         \u001b[0mwarnings\u001b[0m\u001b[0;34m.\u001b[0m\u001b[0mwarn\u001b[0m\u001b[0;34m(\u001b[0m\u001b[0mwng_msg\u001b[0m\u001b[0;34m,\u001b[0m \u001b[0mUserWarning\u001b[0m\u001b[0;34m)\u001b[0m\u001b[0;34m\u001b[0m\u001b[0m\n\u001b[1;32m    134\u001b[0m \u001b[0;34m\u001b[0m\u001b[0m\n\u001b[0;32m--> 135\u001b[0;31m     \u001b[0mdf\u001b[0m \u001b[0;34m=\u001b[0m \u001b[0mfilters\u001b[0m\u001b[0;34m.\u001b[0m\u001b[0minventories\u001b[0m\u001b[0;34m(\u001b[0m\u001b[0mevaler\u001b[0m\u001b[0;34m,\u001b[0m \u001b[0mfacilities\u001b[0m\u001b[0;34m,\u001b[0m \u001b[0mnucs\u001b[0m\u001b[0;34m)\u001b[0m\u001b[0;34m\u001b[0m\u001b[0m\n\u001b[0m\u001b[1;32m    136\u001b[0m \u001b[0;34m\u001b[0m\u001b[0m\n\u001b[1;32m    137\u001b[0m     \u001b[0mgroup_end\u001b[0m \u001b[0;34m=\u001b[0m \u001b[0;34m[\u001b[0m\u001b[0;34m'Time'\u001b[0m\u001b[0;34m]\u001b[0m\u001b[0;34m\u001b[0m\u001b[0m\n",
      "\u001b[0;32m~/.local/lib/python3.5/site-packages/cymetric/filters.py\u001b[0m in \u001b[0;36minventories\u001b[0;34m(evaler, facilities, nucs)\u001b[0m\n\u001b[1;32m    185\u001b[0m \u001b[0;34m\u001b[0m\u001b[0m\n\u001b[1;32m    186\u001b[0m     \u001b[0;32mif\u001b[0m \u001b[0mlen\u001b[0m\u001b[0;34m(\u001b[0m\u001b[0mfacilities\u001b[0m\u001b[0;34m)\u001b[0m \u001b[0;34m!=\u001b[0m \u001b[0;36m0\u001b[0m\u001b[0;34m:\u001b[0m\u001b[0;34m\u001b[0m\u001b[0m\n\u001b[0;32m--> 187\u001b[0;31m         \u001b[0magents\u001b[0m \u001b[0;34m=\u001b[0m \u001b[0magents\u001b[0m\u001b[0;34m[\u001b[0m\u001b[0magents\u001b[0m\u001b[0;34m[\u001b[0m\u001b[0;34m'Prototype'\u001b[0m\u001b[0;34m]\u001b[0m\u001b[0;34m.\u001b[0m\u001b[0misin\u001b[0m\u001b[0;34m(\u001b[0m\u001b[0mfacilities\u001b[0m\u001b[0;34m)\u001b[0m\u001b[0;34m]\u001b[0m\u001b[0;34m\u001b[0m\u001b[0m\n\u001b[0m\u001b[1;32m    188\u001b[0m         \u001b[0mrdc_table\u001b[0m\u001b[0;34m.\u001b[0m\u001b[0mappend\u001b[0m\u001b[0;34m(\u001b[0m\u001b[0;34m[\u001b[0m\u001b[0;34m'AgentId'\u001b[0m\u001b[0;34m,\u001b[0m \u001b[0magents\u001b[0m\u001b[0;34m[\u001b[0m\u001b[0;34m'AgentId'\u001b[0m\u001b[0;34m]\u001b[0m\u001b[0;34m.\u001b[0m\u001b[0mtolist\u001b[0m\u001b[0;34m(\u001b[0m\u001b[0;34m)\u001b[0m\u001b[0;34m]\u001b[0m\u001b[0;34m)\u001b[0m\u001b[0;34m\u001b[0m\u001b[0m\n\u001b[1;32m    189\u001b[0m     \u001b[0;32melse\u001b[0m\u001b[0;34m:\u001b[0m\u001b[0;34m\u001b[0m\u001b[0m\n",
      "\u001b[0;31mTypeError\u001b[0m: 'NoneType' object is not subscriptable"
     ]
    }
   ],
   "source": [
    "import sys \n",
    "import os\n",
    "sys.path.append(os.path.abspath(\"/Users/nuclearkatie/cyclus/mummah_cvt/helpmetric\"))\n",
    "import cymetrichelper as cyh\n",
    "import pandahelper as pdh\n",
    "\n",
    "\n",
    "import cymetric as cym\n",
    "import pandas as pd\n",
    "\n",
    "import numpy as np\n",
    "\n",
    "import matplotlib.pyplot as plt\n",
    "from cymetric import graphs as cgr\n",
    "from cymetric import timeseries as tm\n",
    "\n",
    "%matplotlib inline\n",
    "\n",
    "files = ['cascade_case_2_S2_25_4_1.sqlite',\n",
    "         'cascade_case_2_no_rec_S3_24_4_1_1.sqlite',\n",
    "         'cascade_case_3_S3_24_4_1_1.sqlite',\n",
    "         'cascade_case_3_no_rec_S4_23_4_1_1_1.sqlite',\n",
    "         'cascade_case_1.sqlite']\n",
    "invs = ['storage_2',\n",
    "        'storage_3',\n",
    "        'storage_3',\n",
    "        'storage_4',\n",
    "        'storage']\n",
    "\n",
    "c_names = ['C1 RT 25/4/1','C1 NRT 24/4/1/1','C2 RT 24/4/1/1','C2 NRT 23/4/1/1/1','REF']\n",
    "\n",
    "LEU_qty_case_2_x = []\n",
    "plt_LEU_qty_case_2_x = []\n",
    "\n",
    "for i in range(5):\n",
    "    db_ = cym.dbopen(files[i])\n",
    "    ev_ = cym.Evaluator(db=db_, write=False)\n",
    "\n",
    "    df_ = tm.inventories(ev_, [invs[i]])\n",
    "    df_ = pdh.RenameTS(pdh.RemoveNan(df_), \"Time [y]\", c_names[i])\n",
    "    df_['Time [y]'] *= 1/12.\n",
    "    LEU_qty_case_2_x.append(df_)\n",
    "    plt_LEU_qty_case_2_x.append( (LEU_qty_case_2_x[i], c_names[i]) )\n",
    "    \n",
    "pdh.MakePlot(plt_LEU_qty_case_2_x, \"Time [y]\", \"LEU Amount [kg]\" )\n",
    "plt.axhline(y=25)\n",
    "plt.ylim((-10, 300))\n",
    "#x = np.arange(0, 16, 1);\n",
    "plt.savefig(\"HEU_prod.png\")"
   ]
  },
  {
   "cell_type": "code",
   "execution_count": 8,
   "metadata": {},
   "outputs": [
    {
     "data": {
      "text/plain": [
       "(            REF   Time [y]\n",
       " 0      0.000000   0.000000\n",
       " 1      0.000000   0.083333\n",
       " 2      4.306458   0.166667\n",
       " 3      7.092890   0.250000\n",
       " 4     11.399348   0.333333\n",
       " 5     14.185779   0.416667\n",
       " 6     18.492237   0.500000\n",
       " 7     21.278669   0.583333\n",
       " 8     25.585127   0.666667\n",
       " 9     28.371558   0.750000\n",
       " 10    32.678017   0.833333\n",
       " 11    35.464448   0.916667\n",
       " 12    39.770906   1.000000\n",
       " 13    42.557338   1.083333\n",
       " 14    46.863796   1.166667\n",
       " 15    49.650227   1.250000\n",
       " 16    53.956685   1.333333\n",
       " 17    56.743117   1.416667\n",
       " 18    61.049575   1.500000\n",
       " 19    63.836007   1.583333\n",
       " 20    68.142465   1.666667\n",
       " 21    70.928896   1.750000\n",
       " 22    75.235354   1.833333\n",
       " 23    78.021786   1.916667\n",
       " 24    82.328244   2.000000\n",
       " 25    85.114675   2.083333\n",
       " 26    89.421134   2.166667\n",
       " 27    92.207565   2.250000\n",
       " 28    96.514023   2.333333\n",
       " 29    99.300455   2.416667\n",
       " ..          ...        ...\n",
       " 150  529.180290  12.500000\n",
       " 151  531.966722  12.583333\n",
       " 152  536.273180  12.666667\n",
       " 153  539.059611  12.750000\n",
       " 154  543.366069  12.833333\n",
       " 155  546.152501  12.916667\n",
       " 156  550.458959  13.000000\n",
       " 157  553.245390  13.083333\n",
       " 158  557.551849  13.166667\n",
       " 159  560.338280  13.250000\n",
       " 160  564.644738  13.333333\n",
       " 161  567.431170  13.416667\n",
       " 162  571.737628  13.500000\n",
       " 163  574.524059  13.583333\n",
       " 164  578.830517  13.666667\n",
       " 165  581.616949  13.750000\n",
       " 166  585.923407  13.833333\n",
       " 167  588.709839  13.916667\n",
       " 168  593.016297  14.000000\n",
       " 169  595.802728  14.083333\n",
       " 170  600.109186  14.166667\n",
       " 171  602.895618  14.250000\n",
       " 172  607.202076  14.333333\n",
       " 173  609.988507  14.416667\n",
       " 174  614.294965  14.500000\n",
       " 175  617.081397  14.583333\n",
       " 176  621.387855  14.666667\n",
       " 177  624.174287  14.750000\n",
       " 178  628.480745  14.833333\n",
       " 179  631.267176  14.916667\n",
       " \n",
       " [180 rows x 2 columns], 'REF')"
      ]
     },
     "execution_count": 8,
     "metadata": {},
     "output_type": "execute_result"
    }
   ],
   "source": [
    "plt_LEU_qty_case_2_x[4]"
   ]
  },
  {
   "cell_type": "code",
   "execution_count": null,
   "metadata": {},
   "outputs": [],
   "source": []
  },
  {
   "cell_type": "code",
   "execution_count": null,
   "metadata": {},
   "outputs": [],
   "source": []
  },
  {
   "cell_type": "code",
   "execution_count": null,
   "metadata": {},
   "outputs": [],
   "source": []
  },
  {
   "cell_type": "code",
   "execution_count": null,
   "metadata": {},
   "outputs": [],
   "source": []
  },
  {
   "cell_type": "code",
   "execution_count": null,
   "metadata": {},
   "outputs": [],
   "source": []
  },
  {
   "cell_type": "code",
   "execution_count": null,
   "metadata": {},
   "outputs": [],
   "source": []
  },
  {
   "cell_type": "code",
   "execution_count": null,
   "metadata": {},
   "outputs": [],
   "source": []
  }
 ],
 "metadata": {
  "kernelspec": {
   "display_name": "Python 3",
   "language": "python",
   "name": "python3"
  },
  "language_info": {
   "codemirror_mode": {
    "name": "ipython",
    "version": 3
   },
   "file_extension": ".py",
   "mimetype": "text/x-python",
   "name": "python",
   "nbconvert_exporter": "python",
   "pygments_lexer": "ipython3",
   "version": "3.5.5"
  }
 },
 "nbformat": 4,
 "nbformat_minor": 2
}
